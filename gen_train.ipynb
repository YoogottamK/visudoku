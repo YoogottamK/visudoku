{
 "cells": [
  {
   "cell_type": "markdown",
   "metadata": {},
   "source": [
    "## Load the file with all functions\n",
    "\n",
    "We will need them to generate training data"
   ]
  },
  {
   "cell_type": "code",
   "execution_count": null,
   "metadata": {},
   "outputs": [],
   "source": [
    "%run visudoku.ipynb"
   ]
  },
  {
   "cell_type": "markdown",
   "metadata": {},
   "source": [
    "## Open all the images one by one and then label and store digits\n",
    "\n",
    "We will extract each digit from these puzzles and then label them manually which then will be written on disk"
   ]
  },
  {
   "cell_type": "code",
   "execution_count": null,
   "metadata": {},
   "outputs": [],
   "source": [
    "difficulty = [ 'easy', 'medium', 'hard' ]\n",
    "count = 50\n",
    "quit = 0\n",
    "\n",
    "for lvl in difficulty:\n",
    "    for i in range(1, count+1):\n",
    "        path = f'./data/{lvl}_{i:03d}.png'\n",
    "        img = cv.imread(path)\n",
    "        img = pre_process(img)\n",
    "\n",
    "        img = extract_puzzle(img, get_corners(img))\n",
    "        digits = get_digits(img)\n",
    "\n",
    "        for _, digit in digits:\n",
    "            cv.imshow('img', digit)\n",
    "            label = cv.waitKey(0)\n",
    "            print(chr(label))\n",
    "            \n",
    "            if label == 113:\n",
    "                quit = 1\n",
    "                break\n",
    "        \n",
    "        if quit == 1:\n",
    "            break\n",
    "    \n",
    "    if quit == 1:\n",
    "        break\n",
    "\n",
    "cv.destroyAllWindows()"
   ]
  }
 ],
 "metadata": {
  "kernelspec": {
   "display_name": "Python 3",
   "language": "python",
   "name": "python3"
  },
  "language_info": {
   "codemirror_mode": {
    "name": "ipython",
    "version": 3
   },
   "file_extension": ".py",
   "mimetype": "text/x-python",
   "name": "python",
   "nbconvert_exporter": "python",
   "pygments_lexer": "ipython3",
   "version": "3.7.3"
  }
 },
 "nbformat": 4,
 "nbformat_minor": 2
}
