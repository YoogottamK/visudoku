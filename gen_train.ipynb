{
 "cells": [
  {
   "cell_type": "markdown",
   "metadata": {},
   "source": [
    "## Load the file with all functions\n",
    "\n",
    "We will need them to generate training data"
   ]
  },
  {
   "cell_type": "code",
   "execution_count": null,
   "metadata": {},
   "outputs": [],
   "source": [
    "%run visudoku.ipynb"
   ]
  },
  {
   "cell_type": "markdown",
   "metadata": {},
   "source": [
    "# For storing data"
   ]
  },
  {
   "cell_type": "code",
   "execution_count": null,
   "metadata": {},
   "outputs": [],
   "source": [
    "import os\n",
    "\n",
    "def count_files_in(_dir):\n",
    "    return len([name for name in os.listdir(_dir) if os.path.isfile(os.path.join(_dir, name))])"
   ]
  },
  {
   "cell_type": "markdown",
   "metadata": {},
   "source": [
    "## Open all the images one by one and then label and store digits\n",
    "\n",
    "We will extract each digit from these puzzles and then label them manually which then will be written on disk"
   ]
  },
  {
   "cell_type": "code",
   "execution_count": null,
   "metadata": {},
   "outputs": [],
   "source": [
    "difficulty = [ 'easy', 'medium', 'hard' ]\n",
    "\n",
    "count = 50\n",
    "quit = 0\n",
    "\n",
    "limit_per_digit = 50\n",
    "digits_limit = np.zeros(10, np.uint8)\n",
    "\n",
    "for lvl in difficulty:\n",
    "    for i in range(1, count+1):\n",
    "        path = f'./data/{lvl}_{i:03d}.png'\n",
    "        img = cv.imread(path)\n",
    "        img = pre_process(img)\n",
    "\n",
    "        img = extract_rect(img, get_corners(img))\n",
    "        digits = get_digits(img)\n",
    "\n",
    "        for digit in digits:\n",
    "            # if empty images are over, uncomment this\n",
    "            if is_mostly_empty(digit):\n",
    "                continue\n",
    "\n",
    "            cv.imshow('img', digit)\n",
    "            label = cv.waitKey(0)\n",
    "            \n",
    "            if label == 113:\n",
    "                quit = 1\n",
    "                break\n",
    "                \n",
    "            label = chr(label)\n",
    "            \n",
    "            path = f\"./digit-recog/train/{label}\"\n",
    "            index = count_files_in(path)\n",
    "\n",
    "            if index < limit_per_digit:\n",
    "                cv.imwrite(f\"{path}/{index}.png\", digit)\n",
    "            else:\n",
    "                if digits_limit[int(label)] == 0:\n",
    "                    print(f\"Limit for {label} reched!\")\n",
    "                digits_limit[int(label)] = 1\n",
    "        \n",
    "        if quit == 1:\n",
    "            break\n",
    "    \n",
    "    if quit == 1:\n",
    "        break\n",
    "\n",
    "cv.destroyAllWindows()"
   ]
  }
 ],
 "metadata": {
  "kernelspec": {
   "display_name": "Python 3",
   "language": "python",
   "name": "python3"
  },
  "language_info": {
   "codemirror_mode": {
    "name": "ipython",
    "version": 3
   },
   "file_extension": ".py",
   "mimetype": "text/x-python",
   "name": "python",
   "nbconvert_exporter": "python",
   "pygments_lexer": "ipython3",
   "version": "3.8.0"
  }
 },
 "nbformat": 4,
 "nbformat_minor": 4
}
